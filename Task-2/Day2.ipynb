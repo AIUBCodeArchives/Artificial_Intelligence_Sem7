{
  "nbformat": 4,
  "nbformat_minor": 0,
  "metadata": {
    "colab": {
      "provenance": []
    },
    "kernelspec": {
      "name": "python3",
      "display_name": "Python 3"
    },
    "language_info": {
      "name": "python"
    }
  },
  "cells": [
    {
      "cell_type": "code",
      "execution_count": null,
      "metadata": {
        "colab": {
          "base_uri": "https://localhost:8080/"
        },
        "id": "301x7xEd0-e2",
        "outputId": "316a3084-6a67-4c2c-e901-70f0ed6ab521"
      },
      "outputs": [
        {
          "output_type": "stream",
          "name": "stdout",
          "text": [
            "31\n",
            "22\n",
            "33\n",
            "44\n",
            "55\n"
          ]
        }
      ],
      "source": [
        "nums=[31,22,33,44,55]\n",
        "for num in nums:\n",
        "  print(num)"
      ]
    },
    {
      "cell_type": "code",
      "source": [
        "for i in range(10,15):\n",
        "       print(i)"
      ],
      "metadata": {
        "colab": {
          "base_uri": "https://localhost:8080/"
        },
        "id": "5s77-4hg1U00",
        "outputId": "88067a44-b420-45e8-f8fb-fd86c708ac04"
      },
      "execution_count": null,
      "outputs": [
        {
          "output_type": "stream",
          "name": "stdout",
          "text": [
            "10\n",
            "11\n",
            "12\n",
            "13\n",
            "14\n"
          ]
        }
      ]
    },
    {
      "cell_type": "code",
      "source": [
        "count=0\n",
        "while count<5:\n",
        "  print(count)\n",
        "  count+=1"
      ],
      "metadata": {
        "colab": {
          "base_uri": "https://localhost:8080/"
        },
        "id": "ffCA5i851iCx",
        "outputId": "50bd6aa6-8128-41f0-e058-fce6cf549fd6"
      },
      "execution_count": null,
      "outputs": [
        {
          "output_type": "stream",
          "name": "stdout",
          "text": [
            "0\n",
            "1\n",
            "2\n",
            "3\n",
            "4\n"
          ]
        }
      ]
    },
    {
      "cell_type": "code",
      "source": [
        "for i in range(1,10,2):\n",
        "  print(i)\n"
      ],
      "metadata": {
        "colab": {
          "base_uri": "https://localhost:8080/"
        },
        "id": "utuPAgY42wgz",
        "outputId": "e4877493-327c-4057-fa0a-d09a01b458c8"
      },
      "execution_count": null,
      "outputs": [
        {
          "output_type": "stream",
          "name": "stdout",
          "text": [
            "1\n",
            "3\n",
            "5\n",
            "7\n",
            "9\n"
          ]
        }
      ]
    },
    {
      "cell_type": "code",
      "source": [
        "for i in range (2,20,2):\n",
        "  print(i)"
      ],
      "metadata": {
        "colab": {
          "base_uri": "https://localhost:8080/"
        },
        "id": "adkoUfFM3fVQ",
        "outputId": "1a61ffa2-0d28-422a-c82a-565b1f3f2e4f"
      },
      "execution_count": null,
      "outputs": [
        {
          "output_type": "stream",
          "name": "stdout",
          "text": [
            "2\n",
            "4\n",
            "6\n",
            "8\n",
            "10\n",
            "12\n",
            "14\n",
            "16\n",
            "18\n"
          ]
        }
      ]
    },
    {
      "cell_type": "code",
      "source": [
        "for i in range(10,1,-2):\n",
        "  print(i)"
      ],
      "metadata": {
        "colab": {
          "base_uri": "https://localhost:8080/"
        },
        "id": "uGAQJtez3_Tz",
        "outputId": "a4018d36-3587-4a86-9d96-09bb63a7e827"
      },
      "execution_count": null,
      "outputs": [
        {
          "output_type": "stream",
          "name": "stdout",
          "text": [
            "10\n",
            "8\n",
            "6\n",
            "4\n",
            "2\n"
          ]
        }
      ]
    },
    {
      "cell_type": "code",
      "source": [
        "for i in range (11,0,-2):\n",
        "  print(i)"
      ],
      "metadata": {
        "colab": {
          "base_uri": "https://localhost:8080/"
        },
        "id": "6NnObTV54ys8",
        "outputId": "8a5ae04a-9962-4dc9-afb8-1d30ef416d8b"
      },
      "execution_count": null,
      "outputs": [
        {
          "output_type": "stream",
          "name": "stdout",
          "text": [
            "11\n",
            "9\n",
            "7\n",
            "5\n",
            "3\n",
            "1\n"
          ]
        }
      ]
    },
    {
      "cell_type": "code",
      "source": [
        "num=int(input(\"Enter any number:\"))\n",
        "factorial=1\n",
        "for i in range(1,num+1):\n",
        "  factorial*=i\n",
        "  print(factorial)"
      ],
      "metadata": {
        "colab": {
          "base_uri": "https://localhost:8080/"
        },
        "id": "aDEmYGbW5T43",
        "outputId": "42a05c7e-2212-4a83-f091-a0f4d8bc81c9"
      },
      "execution_count": null,
      "outputs": [
        {
          "output_type": "stream",
          "name": "stdout",
          "text": [
            "Enter any number:5\n",
            "1\n",
            "2\n",
            "6\n",
            "24\n",
            "120\n"
          ]
        }
      ]
    },
    {
      "cell_type": "code",
      "source": [
        "nums=[1,2,[3,4,5],6,7]\n",
        "print(nums[0])\n",
        "print(nums[2])\n",
        "print(nums[2][1])\n",
        "print(nums[-1])\n",
        "nums[2]=40\n",
        "nums\n",
        "nums[3]=9\n",
        "nums"
      ],
      "metadata": {
        "colab": {
          "base_uri": "https://localhost:8080/"
        },
        "id": "f7GYo-JQ6s2L",
        "outputId": "ce7d6eb1-e024-490f-dfba-258dcc60f5bf"
      },
      "execution_count": null,
      "outputs": [
        {
          "output_type": "stream",
          "name": "stdout",
          "text": [
            "1\n",
            "[3, 4, 5]\n",
            "4\n",
            "7\n"
          ]
        },
        {
          "output_type": "execute_result",
          "data": {
            "text/plain": [
              "[1, 2, 40, 9, 7]"
            ]
          },
          "metadata": {},
          "execution_count": 35
        }
      ]
    },
    {
      "cell_type": "code",
      "source": [
        "nums=[2,[34,40],7]\n",
        "nums[2]=9\n",
        "nums"
      ],
      "metadata": {
        "colab": {
          "base_uri": "https://localhost:8080/"
        },
        "id": "UkXs0E3W8Up7",
        "outputId": "45038aff-1c29-4e8a-a543-df5a7914abcd"
      },
      "execution_count": null,
      "outputs": [
        {
          "output_type": "execute_result",
          "data": {
            "text/plain": [
              "[2, [34, 40], 9]"
            ]
          },
          "metadata": {},
          "execution_count": 38
        }
      ]
    },
    {
      "cell_type": "code",
      "source": [
        "nums=[5,[4,9],8]\n",
        "nums[1][0]=20\n",
        "nums\n",
        "nums.append(10)\n",
        "nums\n",
        "nums.insert(3,11)\n",
        "nums\n",
        "nums[1].insert(1,7)\n",
        "nums\n",
        "\n"
      ],
      "metadata": {
        "colab": {
          "base_uri": "https://localhost:8080/"
        },
        "id": "xnvJDdst8j7y",
        "outputId": "f1ea7736-bb4c-43a7-e470-452967c9d0b1"
      },
      "execution_count": null,
      "outputs": [
        {
          "output_type": "execute_result",
          "data": {
            "text/plain": [
              "[5, [20, 7, 9], 8, 11, 10]"
            ]
          },
          "metadata": {},
          "execution_count": 53
        }
      ]
    },
    {
      "cell_type": "code",
      "source": [
        "nums=[12,86,100,24]\n",
        "nums.sort(reverse=True)\n",
        "nums\n"
      ],
      "metadata": {
        "colab": {
          "base_uri": "https://localhost:8080/"
        },
        "id": "ec7pHnRS-Tvh",
        "outputId": "fca0e1db-5f44-4474-b0b6-c2cd236404ff"
      },
      "execution_count": null,
      "outputs": [
        {
          "output_type": "execute_result",
          "data": {
            "text/plain": [
              "[100, 86, 24, 12]"
            ]
          },
          "metadata": {},
          "execution_count": 60
        }
      ]
    },
    {
      "cell_type": "code",
      "source": [
        "fruits=(\"apple\",\"banana\",\"cherry\",\"orange\")\n",
        "y=list(fruits)\n",
        "y[1]=\"Kiwi\"\n",
        "y.insert(2,\"banana\")\n",
        "fruits=tuple(y)\n",
        "fruits\n"
      ],
      "metadata": {
        "colab": {
          "base_uri": "https://localhost:8080/"
        },
        "id": "-xFu4_1f-q_w",
        "outputId": "fa67cf54-42b3-404e-ea8d-70a85db3cc13"
      },
      "execution_count": null,
      "outputs": [
        {
          "output_type": "execute_result",
          "data": {
            "text/plain": [
              "('apple', 'Kiwi', 'banana', 'cherry', 'orange')"
            ]
          },
          "metadata": {},
          "execution_count": 58
        }
      ]
    },
    {
      "cell_type": "code",
      "source": [
        "for num in range(1, 11):\n",
        "    if num % 2 != 0:\n",
        "        print(num)\n",
        "\n",
        "\n"
      ],
      "metadata": {
        "id": "RWunhqvm_Zcg",
        "colab": {
          "base_uri": "https://localhost:8080/"
        },
        "outputId": "214465f0-9192-4799-d4af-4952641bedaa"
      },
      "execution_count": null,
      "outputs": [
        {
          "output_type": "stream",
          "name": "stdout",
          "text": [
            "1\n",
            "3\n",
            "5\n",
            "7\n",
            "9\n"
          ]
        }
      ]
    }
  ]
}